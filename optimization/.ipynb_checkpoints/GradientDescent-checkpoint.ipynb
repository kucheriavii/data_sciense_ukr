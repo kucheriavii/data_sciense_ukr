{
 "cells": [
  {
   "cell_type": "markdown",
   "id": "b2955291",
   "metadata": {},
   "source": [
    "# Notebooks Imports and Packages"
   ]
  },
  {
   "cell_type": "code",
   "execution_count": 1,
   "id": "20c2585e",
   "metadata": {},
   "outputs": [],
   "source": [
    "import matplotlib.pyplot as plt\n",
    "import numpy as np\n",
    "\n",
    "%matplotlib inline"
   ]
  },
  {
   "cell_type": "markdown",
   "id": "2b9a13f7",
   "metadata": {},
   "source": [
    "# Example 1 - A simple cost function\n",
    "\n",
    "## $$f(x) = x^2 + x + 1$$"
   ]
  },
  {
   "cell_type": "code",
   "execution_count": null,
   "id": "08b3f86c",
   "metadata": {},
   "outputs": [],
   "source": []
  }
 ],
 "metadata": {
  "kernelspec": {
   "display_name": "Python 3 (ipykernel)",
   "language": "python",
   "name": "python3"
  },
  "language_info": {
   "codemirror_mode": {
    "name": "ipython",
    "version": 3
   },
   "file_extension": ".py",
   "mimetype": "text/x-python",
   "name": "python",
   "nbconvert_exporter": "python",
   "pygments_lexer": "ipython3",
   "version": "3.11.5"
  }
 },
 "nbformat": 4,
 "nbformat_minor": 5
}
