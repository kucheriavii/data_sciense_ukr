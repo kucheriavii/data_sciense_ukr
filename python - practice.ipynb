{
 "cells": [
  {
   "cell_type": "code",
   "execution_count": 1,
   "id": "c88b69c5",
   "metadata": {},
   "outputs": [],
   "source": [
    "table = {\n",
    "    'Perl': 'Larry Wall',\n",
    "    'Tcl':'John Ousterhout',\n",
    "    'Python':'Guido van Rossum'\n",
    "}"
   ]
  },
  {
   "cell_type": "code",
   "execution_count": 3,
   "id": "a78c4756",
   "metadata": {},
   "outputs": [
    {
     "name": "stdout",
     "output_type": "stream",
     "text": [
      "Guido van Rossum\n"
     ]
    }
   ],
   "source": [
    "print(table['Python'])"
   ]
  },
  {
   "cell_type": "code",
   "execution_count": 9,
   "id": "c2e26502",
   "metadata": {},
   "outputs": [
    {
     "name": "stdout",
     "output_type": "stream",
     "text": [
      "Perl\n",
      "Tcl\n",
      "Python\n"
     ]
    }
   ],
   "source": [
    "for lang in table:\n",
    "    print(lang)"
   ]
  },
  {
   "cell_type": "code",
   "execution_count": 13,
   "id": "b4e7691a",
   "metadata": {},
   "outputs": [],
   "source": [
    "b = (1,2,3,4,5)"
   ]
  },
  {
   "cell_type": "code",
   "execution_count": 14,
   "id": "61e8d180",
   "metadata": {},
   "outputs": [
    {
     "data": {
      "text/plain": [
       "(1, 2, 3, 4, 5)"
      ]
     },
     "execution_count": 14,
     "metadata": {},
     "output_type": "execute_result"
    }
   ],
   "source": [
    "b"
   ]
  },
  {
   "cell_type": "code",
   "execution_count": 15,
   "id": "223acc95",
   "metadata": {},
   "outputs": [],
   "source": [
    "X = [1,2,3]\n",
    "L = ['a', X, 'b']\n",
    "D = {'x':X, 'y':2}"
   ]
  },
  {
   "cell_type": "code",
   "execution_count": 16,
   "id": "6d40a64b",
   "metadata": {},
   "outputs": [
    {
     "name": "stdout",
     "output_type": "stream",
     "text": [
      "['a', [1, 2, 3], 'b']\n"
     ]
    }
   ],
   "source": [
    "print(L)"
   ]
  },
  {
   "cell_type": "code",
   "execution_count": 17,
   "id": "9fbe8ae9",
   "metadata": {},
   "outputs": [
    {
     "name": "stdout",
     "output_type": "stream",
     "text": [
      "{'x': [1, 2, 3], 'y': 2}\n"
     ]
    }
   ],
   "source": [
    "print(D)"
   ]
  },
  {
   "cell_type": "code",
   "execution_count": null,
   "id": "d591c13b",
   "metadata": {},
   "outputs": [],
   "source": []
  }
 ],
 "metadata": {
  "kernelspec": {
   "display_name": "Python 3 (ipykernel)",
   "language": "python",
   "name": "python3"
  },
  "language_info": {
   "codemirror_mode": {
    "name": "ipython",
    "version": 3
   },
   "file_extension": ".py",
   "mimetype": "text/x-python",
   "name": "python",
   "nbconvert_exporter": "python",
   "pygments_lexer": "ipython3",
   "version": "3.11.5"
  }
 },
 "nbformat": 4,
 "nbformat_minor": 5
}
