{
 "cells": [
  {
   "cell_type": "code",
   "execution_count": 1,
   "id": "7c211b7a",
   "metadata": {},
   "outputs": [],
   "source": [
    "table = {\n",
    "    'Perl': 'Larry Wall',\n",
    "    'Tcl':'John Ousterhout',\n",
    "    'Python':'Guido van Rossum'\n",
    "}"
   ]
  },
  {
   "cell_type": "code",
   "execution_count": 3,
   "id": "2ea15a53",
   "metadata": {},
   "outputs": [
    {
     "name": "stdout",
     "output_type": "stream",
     "text": [
      "Guido van Rossum\n"
     ]
    }
   ],
   "source": [
    "print(table['Python'])"
   ]
  },
  {
   "cell_type": "code",
   "execution_count": 9,
   "id": "6c08239b",
   "metadata": {},
   "outputs": [
    {
     "name": "stdout",
     "output_type": "stream",
     "text": [
      "Perl\n",
      "Tcl\n",
      "Python\n"
     ]
    }
   ],
   "source": [
    "for lang in table:\n",
    "    print(lang)"
   ]
  },
  {
   "cell_type": "code",
   "execution_count": 13,
   "id": "286b947d",
   "metadata": {},
   "outputs": [],
   "source": [
    "b = (1,2,3,4,5)"
   ]
  },
  {
   "cell_type": "code",
   "execution_count": 14,
   "id": "81d4affb",
   "metadata": {},
   "outputs": [
    {
     "data": {
      "text/plain": [
       "(1, 2, 3, 4, 5)"
      ]
     },
     "execution_count": 14,
     "metadata": {},
     "output_type": "execute_result"
    }
   ],
   "source": [
    "b"
   ]
  },
  {
   "cell_type": "code",
   "execution_count": 23,
   "id": "21b5f4c2",
   "metadata": {},
   "outputs": [],
   "source": [
    "X = [1,2,3]\n",
    "L = ['a', X, 'b']\n",
    "D = {'x':X, 'y':2}"
   ]
  },
  {
   "cell_type": "code",
   "execution_count": 24,
   "id": "826c41d7",
   "metadata": {},
   "outputs": [
    {
     "name": "stdout",
     "output_type": "stream",
     "text": [
      "['a', [1, 2, 3], 'b']\n"
     ]
    }
   ],
   "source": [
    "print(L)"
   ]
  },
  {
   "cell_type": "code",
   "execution_count": 25,
   "id": "28affbca",
   "metadata": {},
   "outputs": [
    {
     "name": "stdout",
     "output_type": "stream",
     "text": [
      "{'x': [1, 2, 3], 'y': 2}\n"
     ]
    }
   ],
   "source": [
    "print(D)"
   ]
  },
  {
   "cell_type": "code",
   "execution_count": 26,
   "id": "498d863e",
   "metadata": {},
   "outputs": [],
   "source": [
    "X = [123,1]"
   ]
  },
  {
   "cell_type": "code",
   "execution_count": 29,
   "id": "8dd81f01",
   "metadata": {},
   "outputs": [
    {
     "name": "stdout",
     "output_type": "stream",
     "text": [
      "['a', [123, 1], 'b']\n"
     ]
    }
   ],
   "source": [
    "L = ['a', X, 'b']\n",
    "print(L)"
   ]
  },
  {
   "cell_type": "code",
   "execution_count": 33,
   "id": "8a18378a",
   "metadata": {},
   "outputs": [
    {
     "name": "stdout",
     "output_type": "stream",
     "text": [
      "Run away!\n"
     ]
    }
   ],
   "source": [
    "x = 'killer rabbit'\n",
    "\n",
    "if x == 'bunny':\n",
    "    print('hello little bunny')\n",
    "elif x == 'bugs':\n",
    "    print('what\\'s up doc?')\n",
    "else:\n",
    "    print('Run away!')"
   ]
  },
  {
   "cell_type": "code",
   "execution_count": 44,
   "id": "79a6c807",
   "metadata": {},
   "outputs": [
    {
     "name": "stdout",
     "output_type": "stream",
     "text": [
      "what's up doc?\n"
     ]
    }
   ],
   "source": [
    "x='bugs'\n",
    "print({\n",
    "    'bunny': 'hello little bunny',\n",
    "    'bugs':'what\\'s up doc?'\n",
    "}[x])"
   ]
  },
  {
   "cell_type": "code",
   "execution_count": 45,
   "id": "0ccdc3d5",
   "metadata": {},
   "outputs": [
    {
     "data": {
      "text/plain": [
       "'b'"
      ]
     },
     "execution_count": 45,
     "metadata": {},
     "output_type": "execute_result"
    }
   ],
   "source": [
    "x = 'a' if 3 > 20 else 'b'\n",
    "x"
   ]
  },
  {
   "cell_type": "code",
   "execution_count": 47,
   "id": "6e6bf0cf",
   "metadata": {},
   "outputs": [
    {
     "name": "stdout",
     "output_type": "stream",
     "text": [
      "5\n",
      "4\n",
      "3\n",
      "2\n",
      "1\n"
     ]
    }
   ],
   "source": [
    "count = 5\n",
    "while count:\n",
    "    print(count)\n",
    "    count -=1"
   ]
  },
  {
   "cell_type": "code",
   "execution_count": 51,
   "id": "4ae01b64",
   "metadata": {},
   "outputs": [
    {
     "name": "stdout",
     "output_type": "stream",
     "text": [
      "99\n",
      "97\n",
      "95\n",
      "93\n",
      "91\n",
      "89\n",
      "87\n",
      "85\n",
      "83\n",
      "81\n",
      "79\n",
      "77\n",
      "75\n",
      "73\n",
      "71\n",
      "69\n",
      "67\n",
      "65\n",
      "63\n",
      "61\n",
      "59\n",
      "57\n",
      "55\n",
      "53\n",
      "51\n",
      "49\n",
      "47\n",
      "45\n",
      "43\n",
      "41\n",
      "39\n",
      "37\n",
      "35\n",
      "33\n",
      "31\n",
      "29\n",
      "27\n",
      "25\n",
      "23\n",
      "21\n",
      "19\n",
      "17\n",
      "15\n",
      "13\n",
      "11\n",
      "9\n",
      "7\n",
      "5\n",
      "3\n",
      "1\n"
     ]
    }
   ],
   "source": [
    "x = 100\n",
    "while x:\n",
    "    if x%2 == 0:\n",
    "        x-=1\n",
    "        continue\n",
    "    print(x)\n",
    "    x-=1\n",
    "    "
   ]
  },
  {
   "cell_type": "code",
   "execution_count": 77,
   "id": "7898362f",
   "metadata": {},
   "outputs": [
    {
     "name": "stdout",
     "output_type": "stream",
     "text": [
      "100000007 is prime\n"
     ]
    }
   ],
   "source": [
    "y=100000007\n",
    "while x < y:\n",
    "    if y%x == 0:\n",
    "        print(y, 'has factor', x)\n",
    "        break\n",
    "    x = x+1\n",
    "else:\n",
    "    print(y, 'is prime')"
   ]
  },
  {
   "cell_type": "code",
   "execution_count": null,
   "id": "f0d0bf60",
   "metadata": {},
   "outputs": [],
   "source": [
    "for x in range(10,15):\n",
    "    print(x)"
   ]
  },
  {
   "cell_type": "code",
   "execution_count": 120,
   "id": "226e2b85",
   "metadata": {},
   "outputs": [
    {
     "name": "stdout",
     "output_type": "stream",
     "text": [
      "Curent value= \"abc\"\n",
      "adding\n",
      "Curent value= \"abcsssssssssssasas\"\n"
     ]
    }
   ],
   "source": [
    "# class FirstClass:\n",
    "#     def setdata(self, value):\n",
    "#         self.data = value\n",
    "#     def display2(self):\n",
    "#         print(self.data)\n",
    "        \n",
    "# class SecondClass(FirstClass):\n",
    "#     def display(self):\n",
    "#         print('Curent value= \"%s\"' % self.data)\n",
    "\n",
    "class ThirdClass(SecondClass):\n",
    "    def display(self):\n",
    "        print('Curent value= \"%s\"' % self.data)\n",
    "    \n",
    "    def __init__(self, value): # \"ThirdClass(x)\"\n",
    "        self.data = value\n",
    "\n",
    "    def __add__(self, other): # \"self + other\"\n",
    "        print(\"adding\")\n",
    "        self.data = self.data + other\n",
    "\n",
    "    def __mul__(self, other):\n",
    "        self.data = self.data * other # \"self * other\"\n",
    "        \n",
    "a = ThirdClass(\"abc\")\n",
    "a.display()\n",
    "a + \"sssssssssssasas\"\n",
    "a.display()"
   ]
  },
  {
   "cell_type": "code",
   "execution_count": null,
   "id": "7866900b",
   "metadata": {},
   "outputs": [],
   "source": []
  }
 ],
 "metadata": {
  "kernelspec": {
   "display_name": "Python 3 (ipykernel)",
   "language": "python",
   "name": "python3"
  },
  "language_info": {
   "codemirror_mode": {
    "name": "ipython",
    "version": 3
   },
   "file_extension": ".py",
   "mimetype": "text/x-python",
   "name": "python",
   "nbconvert_exporter": "python",
   "pygments_lexer": "ipython3",
   "version": "3.11.5"
  }
 },
 "nbformat": 4,
 "nbformat_minor": 5
}
