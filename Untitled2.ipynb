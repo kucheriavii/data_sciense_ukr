{
 "cells": [
  {
   "cell_type": "code",
   "execution_count": null,
   "id": "7aa5916c",
   "metadata": {},
   "outputs": [],
   "source": [
    "2+3+4+5"
   ]
  },
  {
   "cell_type": "code",
   "execution_count": null,
   "id": "dc86aebd",
   "metadata": {},
   "outputs": [],
   "source": [
    "2/5"
   ]
  },
  {
   "cell_type": "code",
   "execution_count": null,
   "id": "fccc932f",
   "metadata": {},
   "outputs": [],
   "source": [
    "2j*7+1*55"
   ]
  },
  {
   "cell_type": "code",
   "execution_count": null,
   "id": "bbccecfe",
   "metadata": {},
   "outputs": [],
   "source": [
    "5+5+5"
   ]
  },
  {
   "cell_type": "code",
   "execution_count": null,
   "id": "f440bc26",
   "metadata": {},
   "outputs": [],
   "source": [
    "conda install 7za"
   ]
  },
  {
   "cell_type": "code",
   "execution_count": 1,
   "id": "9c0f5730",
   "metadata": {},
   "outputs": [
    {
     "ename": "SyntaxError",
     "evalue": "invalid decimal literal (1060518490.py, line 1)",
     "output_type": "error",
     "traceback": [
      "\u001b[1;36m  Cell \u001b[1;32mIn[1], line 1\u001b[1;36m\u001b[0m\n\u001b[1;33m    import 7za\u001b[0m\n\u001b[1;37m           ^\u001b[0m\n\u001b[1;31mSyntaxError\u001b[0m\u001b[1;31m:\u001b[0m invalid decimal literal\n"
     ]
    }
   ],
   "source": [
    "import 7za"
   ]
  },
  {
   "cell_type": "code",
   "execution_count": 2,
   "id": "259f9fed",
   "metadata": {},
   "outputs": [
    {
     "ename": "SyntaxError",
     "evalue": "invalid decimal literal (2459109190.py, line 1)",
     "output_type": "error",
     "traceback": [
      "\u001b[1;36m  Cell \u001b[1;32mIn[2], line 1\u001b[1;36m\u001b[0m\n\u001b[1;33m    import 7z\u001b[0m\n\u001b[1;37m           ^\u001b[0m\n\u001b[1;31mSyntaxError\u001b[0m\u001b[1;31m:\u001b[0m invalid decimal literal\n"
     ]
    }
   ],
   "source": [
    "import 7"
   ]
  },
  {
   "cell_type": "code",
   "execution_count": null,
   "id": "db510e44",
   "metadata": {},
   "outputs": [],
   "source": []
  }
 ],
 "metadata": {
  "kernelspec": {
   "display_name": "Python 3 (ipykernel)",
   "language": "python",
   "name": "python3"
  },
  "language_info": {
   "codemirror_mode": {
    "name": "ipython",
    "version": 3
   },
   "file_extension": ".py",
   "mimetype": "text/x-python",
   "name": "python",
   "nbconvert_exporter": "python",
   "pygments_lexer": "ipython3",
   "version": "3.11.5"
  }
 },
 "nbformat": 4,
 "nbformat_minor": 5
}
